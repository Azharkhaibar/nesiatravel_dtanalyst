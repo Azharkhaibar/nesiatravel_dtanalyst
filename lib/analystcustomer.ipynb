{
 "cells": [
  {
   "cell_type": "code",
   "execution_count": 6,
   "metadata": {},
   "outputs": [
    {
     "name": "stdout",
     "output_type": "stream",
     "text": [
      "  id;\"customer_name\";\"email\";\"password\";\"country\";\"city_live\";\"paid\";\"role\";\"gender\";\"destinastion\"\n",
      "0  1;\"Salahudin Marsito\";\"Tasdik24@yahoo.co.id\";\"...                                               \n",
      "1  2;\"Maya Leilani\";\"Hani_Yuniar@gmail.com\";\"Ala2...                                               \n",
      "2  3;\"Sherly Damayanti\";\"Mila10@yahoo.co.id\";\"U5u...                                               \n",
      "3  4;\"Kamaria Kamaria Rahimah\";\"Intan.Hasanah@gma...                                               \n",
      "4  5;\"Januar Eko\";\"Rama_Zulkarnain80@yahoo.com\";\"...                                               \n"
     ]
    }
   ],
   "source": [
    "import pandas as pd\n",
    "from sqlalchemy import create_engine\n",
    "\n",
    "try:\n",
    "    URL_PATH_CUSTOMER = 'excel/NesiaTravel_data.csv'\n",
    "    read_files = pd.read_csv(URL_PATH_CUSTOMER, delimiter='\\t')\n",
    "    print(read_files.head())\n",
    "except FileNotFoundError:\n",
    "    print(f'file {URL_PATH_CUSTOMER} tidak di temukan')\n",
    "except Exception as e:\n",
    "    print(f'Terjadi error : {e}')"
   ]
  },
  {
   "cell_type": "code",
   "execution_count": 7,
   "metadata": {},
   "outputs": [
    {
     "name": "stdout",
     "output_type": "stream",
     "text": [
      "       id;\"customer_name\";\"email\";\"password\";\"country\";\"city_live\";\"paid\";\"role\";\"gender\";\"destinastion\"\n",
      "count                                                1000                                               \n",
      "unique                                               1000                                               \n",
      "top     1000;\"Mala Mala Usada\";\"Cemeti_Pratama@gmail.c...                                               \n",
      "freq                                                    1                                               \n"
     ]
    }
   ],
   "source": [
    "print(read_files.describe())"
   ]
  },
  {
   "cell_type": "code",
   "execution_count": 1,
   "metadata": {},
   "outputs": [
    {
     "name": "stdout",
     "output_type": "stream",
     "text": [
      "Data berhasil dibaca dari CSV.\n",
      "Error saat menyimpan data ke database: (mysql.connector.errors.ProgrammingError) 1059 (42000): Identifier name 'id;\"customer_name\";\"email\";\"password\";\"country\";\"city_live\";\"paid\";\"role\";\"gender\";\"destinastion\"' is too long\n",
      "[SQL: \n",
      "CREATE TABLE customer_nesiatravel (\n",
      "\t`id;\"customer_name\";\"email\";\"password\";\"country\";\"city_live\";\"paid\";\"role\";\"gender\";\"destinastion\"` TEXT\n",
      ")\n",
      "\n",
      "]\n",
      "(Background on this error at: https://sqlalche.me/e/20/f405)\n"
     ]
    }
   ],
   "source": [
    "import pandas as pd\n",
    "from sqlalchemy import create_engine\n",
    "from sqlalchemy.exc import SQLAlchemyError\n",
    "\n",
    "# Path ke file CSV\n",
    "URL_PATH_CUSTOMER = 'excel/NesiaTravel_data.csv'\n",
    "\n",
    "# Membaca data dari file CSV\n",
    "try:\n",
    "    # Jika file menggunakan delimiter tab, sesuaikan sep='\\t'\n",
    "    read_files_csv = pd.read_csv(URL_PATH_CUSTOMER, sep=',', on_bad_lines='skip')\n",
    "    print('Data berhasil dibaca dari CSV.')\n",
    "except FileNotFoundError:\n",
    "    print(f'File {URL_PATH_CUSTOMER} tidak ditemukan.')\n",
    "    exit()\n",
    "except pd.errors.ParserError as e:\n",
    "    print(f'Error saat parsing file CSV: {e}')\n",
    "    exit()\n",
    "except Exception as e:\n",
    "    print(f'Terjadi kesalahan saat membaca file CSV: {e}')\n",
    "    exit()\n",
    "\n",
    "# Koneksi ke database\n",
    "username = 'root'\n",
    "password = '' \n",
    "host = 'localhost'\n",
    "database = 'nesiatravel'\n",
    "\n",
    "try:\n",
    "    # buat engine untuk terhubung database\n",
    "    engine = create_engine(f\"mysql+mysqlconnector://{username}:{password}@{host}/{database}\")\n",
    "\n",
    "    # nyimpen tabel ke dtabase\n",
    "    read_files_csv.to_sql(name='customer_nesiatravel', con=engine, if_exists='replace', index=False)\n",
    "    print('Data berhasil disimpan ke database.')\n",
    "except SQLAlchemyError as e:\n",
    "    print(f'Error saat menyimpan data ke database: {e}')\n",
    "except Exception as e:\n",
    "    print(f'Terjadi kesalahan saat menyimpan data ke database: {e}')\n"
   ]
  }
 ],
 "metadata": {
  "kernelspec": {
   "display_name": "Python 3",
   "language": "python",
   "name": "python3"
  },
  "language_info": {
   "codemirror_mode": {
    "name": "ipython",
    "version": 3
   },
   "file_extension": ".py",
   "mimetype": "text/x-python",
   "name": "python",
   "nbconvert_exporter": "python",
   "pygments_lexer": "ipython3",
   "version": "3.12.2"
  }
 },
 "nbformat": 4,
 "nbformat_minor": 2
}
