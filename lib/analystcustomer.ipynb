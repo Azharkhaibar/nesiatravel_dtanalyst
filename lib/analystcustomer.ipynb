{
 "cells": [
  {
   "cell_type": "code",
   "execution_count": 40,
   "metadata": {},
   "outputs": [
    {
     "name": "stdout",
     "output_type": "stream",
     "text": [
      "   id        customer_name                       email         password  \\\n",
      "0   1       Marcos Leannon         Aryanna30@yahoo.com  exaik7tCaLXOQyX   \n",
      "1   2  Krystal Collins III    Zack.Schultz11@yahoo.com  Ki1dzfdjgjKZaxP   \n",
      "2   3      Lillian Lebsack    Preston.Howe@hotmail.com  PbkJuy4yeFrpii8   \n",
      "3   4      Derek Klocko II  Gerald.Bergstrom@gmail.com  yDkz5gfCi2qE2eC   \n",
      "4   5          Della Welch     Jenifer.Fahey@yahoo.com  qpq4bMWkFJ33kak   \n",
      "\n",
      "                            country   price  Booking_total          city  \\\n",
      "0                        San Marino  286.34         874.21        Clovis   \n",
      "1  Lao People's Democratic Republic  139.85         407.93         Provo   \n",
      "2                          Suriname  512.67         322.69    Rio Rancho   \n",
      "3                            Canada  635.18         406.17      Whittier   \n",
      "4                       Switzerland  112.41           4.25  Methuen Town   \n",
      "\n",
      "       province                     time  gender      month  \n",
      "0        Oregon  2020-01-01T09:09:00.000  female    January  \n",
      "1        Nevada  2020-01-01T09:10:00.000  female    January  \n",
      "2  North Dakota  2020-01-01T09:11:00.000  female  September  \n",
      "3         Idaho  2020-01-01T09:12:00.000    male      April  \n",
      "4     Louisiana  2020-01-01T09:13:00.000  female   February  \n"
     ]
    }
   ],
   "source": [
    "import pandas as pd\n",
    "from sqlalchemy import create_engine\n",
    "\n",
    "try:\n",
    "    URL_PATH_CUSTOMER = 'excel/customer_nesiatravel.csv'\n",
    "    \n",
    "    # Reading the CSV file with optional parameters for handling common issues\n",
    "    read_files = pd.read_csv(\n",
    "        URL_PATH_CUSTOMER, \n",
    "        delimiter=',',        \n",
    "        on_bad_lines='skip',  \n",
    "    )\n",
    "    # Display the first 5 rows of the data\n",
    "    print(read_files.head())\n",
    "except FileNotFoundError:\n",
    "    print(f'file {URL_PATH_CUSTOMER} tidak di temukan')\n",
    "except Exception as e:\n",
    "    print(f'Terjadi error : {e}')\n"
   ]
  },
  {
   "cell_type": "code",
   "execution_count": 46,
   "metadata": {},
   "outputs": [
    {
     "name": "stdout",
     "output_type": "stream",
     "text": [
      "   id        customer_name                       email         password  \\\n",
      "0   1       Marcos Leannon         Aryanna30@yahoo.com  exaik7tCaLXOQyX   \n",
      "1   2  Krystal Collins III    Zack.Schultz11@yahoo.com  Ki1dzfdjgjKZaxP   \n",
      "2   3      Lillian Lebsack    Preston.Howe@hotmail.com  PbkJuy4yeFrpii8   \n",
      "3   4      Derek Klocko II  Gerald.Bergstrom@gmail.com  yDkz5gfCi2qE2eC   \n",
      "4   5          Della Welch     Jenifer.Fahey@yahoo.com  qpq4bMWkFJ33kak   \n",
      "\n",
      "                            country   price  Booking_total          city  \\\n",
      "0                        San Marino  286.34         874.21        Clovis   \n",
      "1  Lao People's Democratic Republic  139.85         407.93         Provo   \n",
      "2                          Suriname  512.67         322.69    Rio Rancho   \n",
      "3                            Canada  635.18         406.17      Whittier   \n",
      "4                       Switzerland  112.41           4.25  Methuen Town   \n",
      "\n",
      "       province                     time  gender      month  \n",
      "0        Oregon  2020-01-01T09:09:00.000  female    January  \n",
      "1        Nevada  2020-01-01T09:10:00.000  female    January  \n",
      "2  North Dakota  2020-01-01T09:11:00.000  female  September  \n",
      "3         Idaho  2020-01-01T09:12:00.000    male      April  \n",
      "4     Louisiana  2020-01-01T09:13:00.000  female   February  \n",
      "Data berhasil disimpan ke database\n"
     ]
    }
   ],
   "source": [
    "import pandas as pd\n",
    "from sqlalchemy import create_engine\n",
    "\n",
    "\n",
    "API_CUSTOMER_DATA = 'excel/customer_nesiatravel.csv'\n",
    "\n",
    "read_customer_file = pd.read_csv(\n",
    "    API_CUSTOMER_DATA, \n",
    "    delimiter=',',        \n",
    "    on_bad_lines='skip'\n",
    ")\n",
    "print(read_customer_file.head())\n",
    "username = 'root'\n",
    "password = ''  \n",
    "host = 'localhost'\n",
    "database = 'nesiatravel'\n",
    "\n",
    "engine_create_db = create_engine(f\"mysql+mysqlconnector://{username}:{password}@{host}/{database}\")\n",
    "read_customer_file.to_sql(name='customer_data_travel', con=engine_create_db, if_exists='replace', index=False)\n",
    "print('Data berhasil disimpan ke database')\n"
   ]
  }
 ],
 "metadata": {
  "kernelspec": {
   "display_name": "Python 3",
   "language": "python",
   "name": "python3"
  },
  "language_info": {
   "codemirror_mode": {
    "name": "ipython",
    "version": 3
   },
   "file_extension": ".py",
   "mimetype": "text/x-python",
   "name": "python",
   "nbconvert_exporter": "python",
   "pygments_lexer": "ipython3",
   "version": "3.12.2"
  }
 },
 "nbformat": 4,
 "nbformat_minor": 2
}
