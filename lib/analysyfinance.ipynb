{
 "cells": [
  {
   "cell_type": "code",
   "execution_count": 5,
   "metadata": {},
   "outputs": [
    {
     "name": "stdout",
     "output_type": "stream",
     "text": [
      "                          Account Businees Unit Currency  Year Scenario  \\\n",
      "0                           Sales      Software      USD  2012  Actuals   \n",
      "1              Cost of Goods Sold      Software      USD  2012  Actuals   \n",
      "2             Commissions Expense      Software      USD  2012  Actuals   \n",
      "3                 Payroll Expense      Software      USD  2012  Actuals   \n",
      "4  Travel & Entertainment Expense      Software      USD  2012  Actuals   \n",
      "\n",
      "             Jan            Feb            Mar            Apr            May  \\\n",
      "0   $90,924,002    $82,606,134    $72,780,220    $52,943,701    $77,528,109    \n",
      "1  ($41,623,278)  ($40,464,347)  ($30,806,326)  ($21,412,962)  ($37,047,252)   \n",
      "2   ($4,454,359)   ($3,386,032)   ($3,389,705)   ($2,149,257)   ($3,168,079)   \n",
      "3   ($9,901,680)   ($9,871,172)   ($8,459,696)   ($6,303,408)   ($8,493,573)   \n",
      "4     ($951,255)     ($838,985)     ($872,700)     ($624,416)     ($919,835)   \n",
      "\n",
      "             Jun            Jul            Aug            Sep            Oct  \\\n",
      "0   $96,384,524    $77,345,061    $98,290,873    $79,879,127    $95,373,403    \n",
      "1  ($44,819,597)  ($34,847,393)  ($47,903,350)  ($35,880,653)  ($44,982,115)   \n",
      "2   ($4,417,624)   ($3,386,461)   ($4,052,846)   ($3,418,737)   ($4,365,527)   \n",
      "3  ($11,082,494)   ($8,081,033)  ($11,070,018)   ($8,410,665)  ($10,081,727)   \n",
      "4   ($1,085,296)     ($818,602)   ($1,040,585)     ($803,190)   ($1,158,623)   \n",
      "\n",
      "             Nov            Dec  \n",
      "0   $54,887,908    $82,703,597   \n",
      "1  ($26,929,424)  ($34,233,473)  \n",
      "2   ($2,455,561)   ($3,646,726)  \n",
      "3   ($6,300,578)   ($9,099,438)  \n",
      "4     ($611,335)     ($941,542)  \n"
     ]
    }
   ],
   "source": [
    "import pandas as pd\n",
    "from sqlalchemy import create_engine\n",
    "\n",
    "try: \n",
    "    URL_PATH_FILE = 'excel/Financials Sample Data.csv'\n",
    "    readFile = pd.read_csv(URL_PATH_FILE)\n",
    "    print(readFile.head())\n",
    "except FileNotFoundError:\n",
    "    print(f'file {URL_PATH_FILE} tidak ditemukan')\n",
    "except Exception as e:\n",
    "    print(f'terjadi eror: {e}')\n",
    "    \n"
   ]
  },
  {
   "cell_type": "code",
   "execution_count": 8,
   "metadata": {},
   "outputs": [
    {
     "name": "stdout",
     "output_type": "stream",
     "text": [
      "                          Account Businees Unit Currency  Year Scenario  \\\n",
      "0                           Sales      Software      USD  2012  Actuals   \n",
      "1              Cost of Goods Sold      Software      USD  2012  Actuals   \n",
      "2             Commissions Expense      Software      USD  2012  Actuals   \n",
      "3                 Payroll Expense      Software      USD  2012  Actuals   \n",
      "4  Travel & Entertainment Expense      Software      USD  2012  Actuals   \n",
      "\n",
      "             Jan            Feb            Mar            Apr            May  \\\n",
      "0   $90,924,002    $82,606,134    $72,780,220    $52,943,701    $77,528,109    \n",
      "1  ($41,623,278)  ($40,464,347)  ($30,806,326)  ($21,412,962)  ($37,047,252)   \n",
      "2   ($4,454,359)   ($3,386,032)   ($3,389,705)   ($2,149,257)   ($3,168,079)   \n",
      "3   ($9,901,680)   ($9,871,172)   ($8,459,696)   ($6,303,408)   ($8,493,573)   \n",
      "4     ($951,255)     ($838,985)     ($872,700)     ($624,416)     ($919,835)   \n",
      "\n",
      "             Jun            Jul            Aug            Sep            Oct  \\\n",
      "0   $96,384,524    $77,345,061    $98,290,873    $79,879,127    $95,373,403    \n",
      "1  ($44,819,597)  ($34,847,393)  ($47,903,350)  ($35,880,653)  ($44,982,115)   \n",
      "2   ($4,417,624)   ($3,386,461)   ($4,052,846)   ($3,418,737)   ($4,365,527)   \n",
      "3  ($11,082,494)   ($8,081,033)  ($11,070,018)   ($8,410,665)  ($10,081,727)   \n",
      "4   ($1,085,296)     ($818,602)   ($1,040,585)     ($803,190)   ($1,158,623)   \n",
      "\n",
      "             Nov            Dec  \n",
      "0   $54,887,908    $82,703,597   \n",
      "1  ($26,929,424)  ($34,233,473)  \n",
      "2   ($2,455,561)   ($3,646,726)  \n",
      "3   ($6,300,578)   ($9,099,438)  \n",
      "4     ($611,335)     ($941,542)  \n"
     ]
    }
   ],
   "source": [
    "chuck_size = 10000\n",
    "for chunk in pd.read_csv('excel/Financials Sample Data.csv', chunksize=chuck_size):\n",
    "    print(chunk.head())"
   ]
  },
  {
   "cell_type": "code",
   "execution_count": 9,
   "metadata": {},
   "outputs": [
    {
     "name": "stdout",
     "output_type": "stream",
     "text": [
      "              Year\n",
      "count   351.000000\n",
      "mean   2017.923077\n",
      "std       3.631184\n",
      "min    2012.000000\n",
      "25%    2015.000000\n",
      "50%    2018.000000\n",
      "75%    2021.000000\n",
      "max    2023.000000\n"
     ]
    }
   ],
   "source": [
    "print(readFile.describe())"
   ]
  },
  {
   "cell_type": "code",
   "execution_count": 11,
   "metadata": {},
   "outputs": [
    {
     "name": "stdout",
     "output_type": "stream",
     "text": [
      "data berhasil di simpan data base\n"
     ]
    }
   ],
   "source": [
    "from sqlalchemy import create_engine\n",
    "# SAVE DATA TO MYSQL DATABASE\n",
    "URL_PATH_FILE_CREATE = 'excel/Financials Sample Data.csv'\n",
    "read_file_csv = pd.read_csv(URL_PATH_FILE_CREATE)\n",
    "\n",
    "username = 'root'\n",
    "password = ''\n",
    "host = 'localhost'\n",
    "database = 'nesiatravel'\n",
    "\n",
    "engine = create_engine(f\"mysql+mysqlconnector://{username}:{password}@{host}/{database}\")\n",
    "read_file_csv.to_sql(name='financial_data_nesiatravel', con=engine, if_exists='replace', index=False)\n",
    "print('data berhasil di simpan data base')\n"
   ]
  }
 ],
 "metadata": {
  "kernelspec": {
   "display_name": "Python 3",
   "language": "python",
   "name": "python3"
  },
  "language_info": {
   "codemirror_mode": {
    "name": "ipython",
    "version": 3
   },
   "file_extension": ".py",
   "mimetype": "text/x-python",
   "name": "python",
   "nbconvert_exporter": "python",
   "pygments_lexer": "ipython3",
   "version": "3.12.2"
  }
 },
 "nbformat": 4,
 "nbformat_minor": 2
}
